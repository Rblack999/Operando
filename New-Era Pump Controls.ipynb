{
 "cells": [
  {
   "cell_type": "markdown",
   "metadata": {},
   "source": [
    "# New-Era Pump Controls\n",
    "## Originally Written by Adel Naim on April 5th, 2022\n",
    "## Robert Black maintains, modifys, and updates code as necessary\n",
    "The purpose of this notebook is to facilitate the operation of 1 to 2 new-era pumps. The user can turn both pumps on and off, in addition to changing their direction and flowrate independantly.\n",
    "\n",
    "Pumps can be connected by daisy chaining to a computer. It is important to note that the address of each connected pump starts at 0 and increases by 1 for each pump. (Eg. Pump 1's address will be 0, pump 2's address will be 1, etc).\n",
    "\n",
    "The full manual (https://www.syringepump.com/download/NE-9000%20Peristaltic%20Pump%20User%20Manual.pdf) includes information on setups and serial commands. For this notebook, the new_era user-created library was used. Visit https://gitlab.com/heingroup/new_era for documentation and some exmaple uses of the library.\n",
    "\n",
    "Note: This notebook was written to operate two daisy chained pumps. Code can be commented out if one wishes to only use the commands to operate one pump, or certain pumps. "
   ]
  },
  {
   "cell_type": "markdown",
   "metadata": {},
   "source": [
    "### Modules, Start and Stop Commands\n",
    "Run the cell below to import the needed modules."
   ]
  },
  {
   "cell_type": "code",
   "execution_count": 43,
   "metadata": {},
   "outputs": [],
   "source": [
    "from new_era.peristaltic_pump import PeristalticPump\n",
    "import serial\n",
    "import time                                   #Required modules are imported.\n",
    "import io\n",
    "from new_era.peristaltic_pump_network import PeristalticPumpNetwork"
   ]
  },
  {
   "cell_type": "markdown",
   "metadata": {},
   "source": [
    "### Start Command\n",
    "The following cell starts two pumps. Pumps may be easily added or removed. Ensure that any added pumps are given their correct address."
   ]
  },
  {
   "cell_type": "code",
   "execution_count": 46,
   "metadata": {
    "scrolled": false
   },
   "outputs": [
    {
     "name": "stdout",
     "output_type": "stream",
     "text": [
      "send command 0VER \r\n",
      "Connected to pump NE9000XV0.176\n",
      "send command 1VER \r\n",
      "Connected to pump NE9000XV0.176\n",
      "send command 0RUN \r\n",
      "send command 1RUN \r\n"
     ]
    }
   ],
   "source": [
    "def main():\n",
    "    pump_port = 'COM5'  # check on your own system\n",
    "    pump_network = PeristalticPumpNetwork(port=pump_port, baudrate=9600)\n",
    "    ne_pump_1 = pump_network.add_pump(address=0, baudrate=9600)  # first pump directly connected to the computer\n",
    "    ne_pump_2 = pump_network.add_pump(address=1, baudrate=9600)  \n",
    "    \n",
    "    ne_pump_1.start()\n",
    "    ne_pump_2.start()\n",
    "    \n",
    "if __name__ == \"__main__\":\n",
    "    main()"
   ]
  },
  {
   "cell_type": "markdown",
   "metadata": {},
   "source": [
    "### Stop Command\n",
    "The following cell stops two pumps. "
   ]
  },
  {
   "cell_type": "code",
   "execution_count": 47,
   "metadata": {},
   "outputs": [
    {
     "name": "stdout",
     "output_type": "stream",
     "text": [
      "send command 0VER \r\n",
      "Connected to pump NE9000XV0.176\n",
      "send command 1VER \r\n",
      "Connected to pump NE9000XV0.176\n",
      "send command 0STP \r\n",
      "send command 1STP \r\n"
     ]
    }
   ],
   "source": [
    "def main():\n",
    "    pump_port = 'COM5'  # check on your own system\n",
    "    pump_network = PeristalticPumpNetwork(port=pump_port, baudrate=9600)\n",
    "    ne_pump_1 = pump_network.add_pump(address=0, baudrate=9600)  # first pump directly connected to the computer\n",
    "    ne_pump_2 = pump_network.add_pump(address=1, baudrate=9600)  \n",
    "    \n",
    "    ne_pump_1.stop()\n",
    "    ne_pump_2.stop()\n",
    "    \n",
    "if __name__ == \"__main__\":\n",
    "    main()"
   ]
  },
  {
   "cell_type": "markdown",
   "metadata": {},
   "source": [
    "### Change Direction Command\n",
    "The following cell reverses the direction of two pumps. The code can be run twice to return the pumps to their original direction (i.e Clockwise → counterclockwise → clockwise)."
   ]
  },
  {
   "cell_type": "code",
   "execution_count": 13,
   "metadata": {},
   "outputs": [
    {
     "name": "stdout",
     "output_type": "stream",
     "text": [
      "send command 0VER \n",
      "Connected to pump NE9000XV0.176\n",
      "send command 1VER \n",
      "Connected to pump NE9000XV0.176\n",
      "What direction do you want to change to? Choose between 'dispense', 'withdraw', or 'reverse'.dispense\n",
      "send command 0DIR INF \n",
      "send command 1DIR INF \n"
     ]
    }
   ],
   "source": [
    "def main():\n",
    " directions = ['dispense','withdraw','reverse']   \n",
    " pump_port = 'COM5'  # check on your own system\n",
    " pump_network = PeristalticPumpNetwork(port=pump_port, baudrate=9600)\n",
    " ne_pump_1 = pump_network.add_pump(address=0, baudrate=9600)  \n",
    " ne_pump_2 = pump_network.add_pump(address=1, baudrate=9600)  \n",
    "    \n",
    " direction = input(\"What direction do you want to change to? Choose between 'dispense', 'withdraw', or 'reverse'.\")   \n",
    "\n",
    " if direction in directions:\n",
    "        ne_pump_1.set_direction(direction) \n",
    "        ne_pump_2.set_direction(direction)\n",
    " else: print(\"Choose one of the allowed directions!\")\n",
    "\n",
    "\n",
    "if __name__ == \"__main__\":\n",
    "    main()"
   ]
  },
  {
   "cell_type": "markdown",
   "metadata": {},
   "source": [
    "### Change Flow Rate Command\n",
    "The following cell allows for altering the flowrate of two pumps."
   ]
  },
  {
   "cell_type": "code",
   "execution_count": 38,
   "metadata": {},
   "outputs": [
    {
     "name": "stdout",
     "output_type": "stream",
     "text": [
      "send command 0VER \n",
      "Connected to pump NE9000XV0.176\n",
      "send command 1VER \n",
      "Connected to pump NE9000XV0.176\n",
      "Input the flowrate you would like the pumps to run at (in ml/min). For the current tubing, the flowrate must be between 0.004 ml/min and 75.19 ml/min.10\n",
      "send command 0RAT 10 MM \n",
      "send command 1RAT 10 MM \n"
     ]
    }
   ],
   "source": [
    "def main():\n",
    "    \n",
    " pump_port = 'COM5'  # check on your own system\n",
    " pump_network = PeristalticPumpNetwork(port=pump_port, baudrate=9600)\n",
    " ne_pump_1 = pump_network.add_pump(address=0, baudrate=9600)  \n",
    " ne_pump_2 = pump_network.add_pump(address=1, baudrate=9600)  \n",
    "    \n",
    " rate = input(\"Input the flowrate you would like the pumps to run at (in ml/min). For the current tubing, the flowrate must be between 0.004 ml/min and 75.19 ml/min.\")   \n",
    " rate = float(rate)\n",
    " if 0.004 <= rate <= 75.19: \n",
    "        ne_pump_1.set_rate(rate, unit='ml/min')\n",
    "        ne_pump_2.set_rate(rate, unit='ml/min')\n",
    " elif rate < 0.004:\n",
    "    print(\"Your flowrate is too small. Choose a flowrate between 0.004 ml/min and 75.19 ml/min.\")\n",
    " elif rate > 75.19:\n",
    "    print(\"Your flowrate is too large. Choose a flowrate between 0.004 ml/min and 75.19 ml/min.\")\n",
    "\n",
    "if __name__ == \"__main__\":\n",
    "    main()"
   ]
  },
  {
   "cell_type": "markdown",
   "metadata": {},
   "source": [
    "### More Commands\n",
    "Other possible commands can be viewed by running the cell below. "
   ]
  },
  {
   "cell_type": "code",
   "execution_count": 16,
   "metadata": {
    "collapsed": true
   },
   "outputs": [
    {
     "name": "stdout",
     "output_type": "stream",
     "text": [
      "Help on class PeristalticPump in module new_era.peristaltic_pump:\n",
      "\n",
      "class PeristalticPump(builtins.object)\n",
      " |  PeristalticPump(port: str, address: int = 0, baudrate: int = 9600, start_trigger='rising', stop_trigger='falling', volume_unit='ml', rate_unit='ml/min', safe_start: bool = True)\n",
      " |  \n",
      " |  Establish a connection with the New Era pump - specifically a peristaltic pump\n",
      " |  \n",
      " |  Methods defined here:\n",
      " |  \n",
      " |  __init__(self, port: str, address: int = 0, baudrate: int = 9600, start_trigger='rising', stop_trigger='falling', volume_unit='ml', rate_unit='ml/min', safe_start: bool = True)\n",
      " |      the pump by default sets the tubing inside diameter to 3/16 inches.\n",
      " |      \n",
      " |      :param str, port: port to connect to, for example, 'COM8'\n",
      " |      :param int, address: address of the pump/ Use 0 if only using 1 pump, but increase if connecting pumps to\n",
      " |          each other\n",
      " |      :param int, baudrate: baurate must match the baudrate of the pump to connect to it\n",
      " |      :param str, start_trigger: one of 'rising', 'falling', or None\n",
      " |      :param str, stop_trigger: one of 'rising', 'falling', or None\n",
      " |      :param str, volume_unit: one of VOL_UNIT values\n",
      " |      :param str, rate_unit: one of RATE_UNIT values\n",
      " |      :param bool, safe_start: if True, stop the pump on initialization of the instance\n",
      " |  \n",
      " |  check_response(self, command, result)\n",
      " |  \n",
      " |  connect(self)\n",
      " |  \n",
      " |  disconnect(self)\n",
      " |      Stop pump and close serial port.  Automatically called when Python\n",
      " |      exits.\n",
      " |  \n",
      " |  get_TTL(self)\n",
      " |      Get status of TTL trigger\n",
      " |  \n",
      " |  get_diameter(self)\n",
      " |      Get tubing inside diameter setting in inches\n",
      " |  \n",
      " |  get_direction(self)\n",
      " |      Get current direction of the pump.  Response will be either 'dispense' or\n",
      " |      'withdraw'.\n",
      " |      \n",
      " |      Query response: { INF | WDR }\n",
      " |  \n",
      " |  get_dispensed(self, unit=None)\n",
      " |      Get current volume withdrawn, converting volume to requested unit.  If\n",
      " |      no unit is specified, value is in the units specified when the interface\n",
      " |      was created.\n",
      " |  \n",
      " |  get_rate(self, unit=None)\n",
      " |      Get current rate of the pump, converting rate to requested unit.  If no\n",
      " |      unit is specified, value is in the units specified when the interface\n",
      " |      was created.\n",
      " |      \n",
      " |      Query response of RAT: <float><volume units>\n",
      " |  \n",
      " |  get_status(self)\n",
      " |  \n",
      " |  get_trigger(self)\n",
      " |      Get trigger mode.  Returns tuple of two values indicating start and stop\n",
      " |      condition.\n",
      " |  \n",
      " |  get_volume(self, unit=None)\n",
      " |      Get current volume of the pump, converting volume to requested unit.  If no\n",
      " |      unit is specified, value is in the units specified when the interface\n",
      " |      was created.\n",
      " |      \n",
      " |      Query response of VOL: <float><volume units>\n",
      " |  \n",
      " |  get_withdrawn(self, unit=None)\n",
      " |      Get current volume dispensed, converting volume to requested unit.  If\n",
      " |      no unit is specified, value is in the units specified when the interface\n",
      " |      was created.\n",
      " |  \n",
      " |  pause(self)\n",
      " |  \n",
      " |  pump(self, pump_time: float, direction: str = None, wait_time: float = 0, rate: float = None)\n",
      " |      Convenience method that has the same name as the pump method used in peristaltic pump control; likely\n",
      " |      that this\n",
      " |      method might be changed in the future/not used. Right  now it is just made in case there are scenarios where\n",
      " |      an application can be run either using Allan's pump or one of these new era pumps\n",
      " |      \n",
      " |      :param pump_time: how long to pump for\n",
      " |      :param rate: rate to pump at\n",
      " |      :param direction: one of 'dispense', 'withdraw', or 'reverse'\n",
      " |      :param wait_time: how long to wait for after dispensing or withdrawing to return from this function\n",
      " |      :return:\n",
      " |  \n",
      " |  reset(self)\n",
      " |      Clears program memory and resets communication parameters to Basic mode and address 0.\n",
      " |      This is a special system command that will be accepted by the pump regardless of its current address.\n",
      " |      :return:\n",
      " |  \n",
      " |  reset_dispensed_volume(self)\n",
      " |      Reset the cumulative dispensed volume\n",
      " |  \n",
      " |  reset_volume(self)\n",
      " |      Reset the cumulative dispensed and withdrawn volume\n",
      " |  \n",
      " |  reset_withdrawn_volume(self)\n",
      " |      Reset the cumulative withdrawn volume\n",
      " |  \n",
      " |  resume(self)\n",
      " |  \n",
      " |  run(self)\n",
      " |      Start pump program\n",
      " |  \n",
      " |  run_if_TTL(self, value=True)\n",
      " |      In contrast to `run`, the logical state of the TTL input is inspected\n",
      " |      (high=True, low=False).  If the TTL state is equal to value, the pump\n",
      " |      program is started.\n",
      " |      \n",
      " |      If value is True, start only if the TTL is high.  If value is False,\n",
      " |      start only if the TTL is low.\n",
      " |  \n",
      " |  set_address_and_baudrate(self, address: int, baudrate: int)\n",
      " |      This is a special system command that will be accepted by the pump regardless of its current address.  Once\n",
      " |      set, the pump will only respond to commands with the set address and at the specified baud rate\n",
      " |      \n",
      " |      :param address:\n",
      " |      :param baudrate:\n",
      " |      :return:\n",
      " |  \n",
      " |  set_baudrate(self, baudrate: int)\n",
      " |      This is a special system command that will be accepted by the pump regardless of its current address. Once\n",
      " |      set, the pump will only respond to commands with the set address and at the specified baud rate\n",
      " |      \n",
      " |      :param baudrate:\n",
      " |      :return:\n",
      " |  \n",
      " |  set_diameter(self, diameter_numerator, diameter_denominator, unit=None)\n",
      " |      Set tubing inside diameter (unit must be inches). e.g. 3/16\n",
      " |      Any diameter setting under 1 inch can be entered\n",
      " |  \n",
      " |  set_direction(self, direction)\n",
      " |      Set direction of the pump.  Valid directions are 'dispense', 'withdraw'\n",
      " |      and 'reverse'.\n",
      " |      \n",
      " |      :param str, direction: one of 'dispense', 'withdraw', or 'reverse'\n",
      " |  \n",
      " |  set_rate(self, rate, unit=None)\n",
      " |      Set current rate of the pump, converting rate from specified unit to the\n",
      " |      unit the interface is set at\n",
      " |  \n",
      " |  set_rate_unit(self, rate_unit: str)\n",
      " |      Set the rate unit of the pump\n",
      " |      :param str, rate_unit: one of RATE_UNIT values\n",
      " |      :return:\n",
      " |  \n",
      " |  set_trigger(self, start, stop)\n",
      " |      Set the start and stop trigger modes.  Valid modes are rising and falling.  Note that not all\n",
      " |      combinations of\n",
      " |      modes are supported (see TRIG_MODE for supported pairs).\n",
      " |      \n",
      " |      start=None, stop='falling': pump program stops on a falling edge (start\n",
      " |      manually or use the `run` method to start the pump)\n",
      " |      \n",
      " |      start='rising', stop='falling': pump program starts on a rising edge and\n",
      " |      stops on a falling edge\n",
      " |  \n",
      " |  set_volume(self, volume, unit=None)\n",
      " |      Set current volume of the pump, converting volume from specified unit to the\n",
      " |      unit the interface is set to\n",
      " |  \n",
      " |  set_volume_unit(self, volume_unit: str)\n",
      " |      Set the volume unit of the pump\n",
      " |      :param str, volume_unit: one of VOL_UNIT values\n",
      " |      :return:\n",
      " |  \n",
      " |  start(self)\n",
      " |      Starts the pump.\n",
      " |  \n",
      " |  stop(self)\n",
      " |      Stop the pump.  Raises NewEraPumpError if the pump is already stopped.\n",
      " |  \n",
      " |  ----------------------------------------------------------------------\n",
      " |  Data descriptors defined here:\n",
      " |  \n",
      " |  __dict__\n",
      " |      dictionary for instance variables (if defined)\n",
      " |  \n",
      " |  __weakref__\n",
      " |      list of weak references to the object (if defined)\n",
      " |  \n",
      " |  address\n",
      " |  \n",
      " |  baudrate\n",
      " |  \n",
      " |  ----------------------------------------------------------------------\n",
      " |  Data and other attributes defined here:\n",
      " |  \n",
      " |  CONNECTION_SETTINGS = {'bytesize': 8, 'parity': 'N', 'stopbits': 1}\n",
      " |  \n",
      " |  CR = '\\r'\n",
      " |  \n",
      " |  DIR_MODE = {'INF': 'dispense', 'REV': 'reverse', 'WDR': 'withdraw'}\n",
      " |  \n",
      " |  ETX = '\\x03'\n",
      " |  \n",
      " |  RATE_UNIT = {'MM': 'ml/min', 'MS': 'ml/sec', 'OM': 'Oz/min', 'OS': 'Oz...\n",
      " |  \n",
      " |  REV_DIR_MODE = {'dispense': 'INF', 'reverse': 'REV', 'withdraw': 'WDR'...\n",
      " |  \n",
      " |  REV_RATE_UNIT = {'Oz/min': 'OM', 'Oz/sec': 'OS', 'ml/min': 'MM', 'ml/s...\n",
      " |  \n",
      " |  REV_TRIG_MODE = {('falling', 'falling'): 'FT', ('falling', 'rising'): ...\n",
      " |  \n",
      " |  REV_VOL_UNIT = {'Oz': 'OZ', 'ml': 'ML'}\n",
      " |  \n",
      " |  STANDARD_ENCODING = 'UTF-8'\n",
      " |  \n",
      " |  STATUS = {'I': 'dispensing', 'P': 'pumping program paused', 'S': 'pump...\n",
      " |  \n",
      " |  STX = '\\x02'\n",
      " |  \n",
      " |  TRIG_MODE = {'F2': ('rising', 'rising'), 'FH': ('falling', 'rising'), ...\n",
      " |  \n",
      " |  VOL_UNIT = {'ML': 'ml', 'OZ': 'Oz'}\n",
      "\n"
     ]
    }
   ],
   "source": [
    "help(PeristalticPump)"
   ]
  }
 ],
 "metadata": {
  "kernelspec": {
   "display_name": "Python 3",
   "language": "python",
   "name": "python3"
  },
  "language_info": {
   "codemirror_mode": {
    "name": "ipython",
    "version": 3
   },
   "file_extension": ".py",
   "mimetype": "text/x-python",
   "name": "python",
   "nbconvert_exporter": "python",
   "pygments_lexer": "ipython3",
   "version": "3.7.9"
  }
 },
 "nbformat": 4,
 "nbformat_minor": 5
}
