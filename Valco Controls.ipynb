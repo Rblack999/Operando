{
 "cells": [
  {
   "cell_type": "markdown",
   "metadata": {},
   "source": [
    "# Valco VICI Valve Controls\n",
    "## Written by Adel Naim, March 24th 2022\n",
    "## Robert Black maintains, modifys, and updates code as necessary\n",
    "\n",
    "This notebook was created to change the position of a Valco 10-position \"SF\" valve. Visit https://www.vici.com/vval/sf.php for a detailed description of this flow path selector.\n",
    "\n",
    "The valve features 11 streams (1 input, 10 output). When gas is fed to the inlet stream in the middle of the valve, the gas will emerge from one of the outlet streams depending on the position of the valve."
   ]
  },
  {
   "attachments": {
    "image-2.png": {
     "image/png": "[encoded data removed]"
    }
   },
   "cell_type": "markdown",
   "metadata": {},
   "source": [
    "#####  Although the valve has 10 positions, the code below queries the user to input only odd numbers from 1 to 9. This is because the valve must move by a multiple of 2 (eg. 1 to 3 → moved by 2, 3 to 9 → moved by 6, etc) as a result of how the outlets are related. The diagram below illustrates the orientation of the valve when position 1 is selected.  The \"connected\" outlets must be moved together, hence the code prevents movement to an even-numbered position.\n",
    "\n",
    "![image-2.png](attachment:image-2.png)\n"
   ]
  },
  {
   "cell_type": "markdown",
   "metadata": {},
   "source": [
    "### Serial Connection and Commands\n",
    "Run the cell below to initiate a serial connection and to define the key functions."
   ]
  },
  {
   "cell_type": "code",
   "execution_count": 4,
   "metadata": {},
   "outputs": [],
   "source": [
    "import serial\n",
    "import time         #These three lines import the necessary modules.\n",
    "import io\n",
    "\n",
    "ser = serial.Serial(port = 'COM5',  #Check your device manager and change the COM port here as needed.\n",
    "                    baudrate = 9600, \n",
    "                    bytesize = serial.EIGHTBITS,  \n",
    "                    parity = serial.PARITY_NONE,   #Establishes a serial connection between valve controller and computer.\n",
    "                    stopbits = serial.STOPBITS_ONE\n",
    "                   )\n",
    "\n",
    "def odd_move(): \n",
    "    move = input(\"Please enter the position which you want to move to.\") \n",
    "    allowed = [\"1\",\"3\",\"5\",\"7\",\"9\"]   \n",
    "    if move not in allowed:                            #Code checks that the user's input is one of the allowed inputs.\n",
    "        print(\"You must select either 1,3,5,7, or 9!\")            \n",
    "    elif move in allowed:\n",
    "         int(move)\n",
    "         position = f'GO{move}\\r'     #Used f string, and serial \"GO\" command to move valve into user's desired position.\n",
    "         ser.write(position.encode()) #Serial command communicates and \"instructs\" the valve controller to change positions.\n",
    "         time.sleep(1)\n",
    "        \n",
    "         ser.write(b'CP\\r')     #This serial command prints the current position of the valve.\n",
    "         time.sleep(0.2)\n",
    "         _readline()\n",
    "            \n",
    "def _readline(): #Used to ensure readline() end at \\r since readline() function no longer exists in Python 3.x\n",
    "    eol = b'\\r'\n",
    "    leneol = len(eol)\n",
    "    line = bytearray()\n",
    "    while True:\n",
    "        c = ser.read(1)\n",
    "        if c:\n",
    "            line += c\n",
    "            if line[-leneol:] == eol:\n",
    "                break\n",
    "        else:\n",
    "            break\n",
    "    print(bytes(line))\n",
    "    return bytes(line)"
   ]
  },
  {
   "cell_type": "markdown",
   "metadata": {},
   "source": [
    "### Run the cell below to change the valve's position as needed.\n",
    "Ensure the correct port is entered in the cell above, and that the valve controller is connected to your computer via this port.For information on more valve controller commands, visit https://www.vici.com/support/manuals/universal-actuator.pdf."
   ]
  },
  {
   "cell_type": "code",
   "execution_count": 6,
   "metadata": {},
   "outputs": [
    {
     "name": "stdout",
     "output_type": "stream",
     "text": [
      "Please enter the position which you want to move to.9\n",
      "b'CP09\\r'\n"
     ]
    }
   ],
   "source": [
    "odd_move()"
   ]
  }
 ],
 "metadata": {
  "kernelspec": {
   "display_name": "Python 3",
   "language": "python",
   "name": "python3"
  },
  "language_info": {
   "codemirror_mode": {
    "name": "ipython",
    "version": 3
   },
   "file_extension": ".py",
   "mimetype": "text/x-python",
   "name": "python",
   "nbconvert_exporter": "python",
   "pygments_lexer": "ipython3",
   "version": "3.7.9"
  }
 },
 "nbformat": 4,
 "nbformat_minor": 5
}
